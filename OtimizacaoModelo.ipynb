{
  "nbformat": 4,
  "nbformat_minor": 0,
  "metadata": {
    "colab": {
      "provenance": []
    },
    "kernelspec": {
      "name": "python3",
      "display_name": "Python 3"
    },
    "language_info": {
      "name": "python"
    }
  },
  "cells": [
    {
      "cell_type": "markdown",
      "source": [
        "## Otimização de Modelo Pré-Treinado para Detecção de Fraudes em Cartões de Crédito"
      ],
      "metadata": {
        "id": "f-aXd95jKKeP"
      }
    },
    {
      "cell_type": "markdown",
      "source": [
        "### Descrição:"
      ],
      "metadata": {
        "id": "sZc_qtw9J_Ho"
      }
    },
    {
      "cell_type": "markdown",
      "source": [
        "Otimizar um modelo de rede neural pré-treinado para detecção de fraudes em cartões de crédito. Aplicar técnicas avançadas de ajuste fino de hiperparâmetros, como grid search e random search, com o objetivo de aprimorar as métricas de desempenho do modelo, incluindo precisão, recall, F1-score e AUC-ROC. A atividade também exige uma comparação entre o modelo otimizado e o modelo original, permitindo avaliar o impacto das modificações nos hiperparâmetros sobre o desempenho geral."
      ],
      "metadata": {
        "id": "A62mRCvmJ4Zb"
      }
    },
    {
      "cell_type": "markdown",
      "source": [
        "### Instruções:"
      ],
      "metadata": {
        "id": "RO_FtrJUKCBx"
      }
    },
    {
      "cell_type": "markdown",
      "source": [
        "Para realizar esta atividade, você deve começar treinando o modelo de rede neural para detecção de fraudes em cartões de crédito. Os dados do cartão podem ser encontrados no link de conteúdo. Depois, obtenha as métricas de desempenho deste modelo como a precisão, recall, F1-score e AUC-ROC.  \n",
        "\n",
        "\n",
        "Em seguida, defina uma faixa de valores para os hiperparâmetros que deseja otimizar. Aplique técnicas de ajuste fino de hiperparâmetros para melhorar o desempenho do modelo. Você pode usar métodos como grid search e random search para encontrar as melhores combinações de hiperparâmetros.\n",
        "\n",
        "\n",
        "Após otimizar o modelo, compare os resultados obtidos com os resultados do modelo original. Analise como as mudanças nos hiperparâmetros impactaram o desempenho, considerando cada uma das métricas mencionadas. Por fim, documente todas as etapas realizadas e as observações feitas durante o processo."
      ],
      "metadata": {
        "id": "AYcXbPPuKEV_"
      }
    },
    {
      "cell_type": "code",
      "execution_count": 62,
      "metadata": {
        "id": "OQ-7JhhEJx6n"
      },
      "outputs": [],
      "source": [
        "import seaborn as sns\n",
        "import pandas as pd\n",
        "import numpy as np\n",
        "import matplotlib.pyplot as plt\n",
        "import tensorflow as tf\n",
        "from sklearn.model_selection import train_test_split\n",
        "from sklearn.preprocessing import StandardScaler\n",
        "from sklearn.utils import resample"
      ]
    },
    {
      "cell_type": "code",
      "source": [
        "\n",
        "print(\"\\nCarregamento do dataset + primeiras linhas do dataset:\")\n",
        "df = pd.read_csv('/content/creditcard.csv.crdownload')\n",
        "print(df.head())"
      ],
      "metadata": {
        "colab": {
          "base_uri": "https://localhost:8080/"
        },
        "id": "u0Xz10BBKcwQ",
        "outputId": "9d1ed824-d130-4c6e-ffb0-281d1542e339"
      },
      "execution_count": 63,
      "outputs": [
        {
          "output_type": "stream",
          "name": "stdout",
          "text": [
            "\n",
            "Carregamento do dataset + primeiras linhas do dataset:\n",
            "   Time        V1        V2        V3        V4        V5        V6        V7  \\\n",
            "0     0 -1.359807 -0.072781  2.536347  1.378155 -0.338321  0.462388  0.239599   \n",
            "1     0  1.191857  0.266151  0.166480  0.448154  0.060018 -0.082361 -0.078803   \n",
            "2     1 -1.358354 -1.340163  1.773209  0.379780 -0.503198  1.800499  0.791461   \n",
            "3     1 -0.966272 -0.185226  1.792993 -0.863291 -0.010309  1.247203  0.237609   \n",
            "4     2 -1.158233  0.877737  1.548718  0.403034 -0.407193  0.095921  0.592941   \n",
            "\n",
            "         V8        V9  ...       V21       V22       V23       V24       V25  \\\n",
            "0  0.098698  0.363787  ... -0.018307  0.277838 -0.110474  0.066928  0.128539   \n",
            "1  0.085102 -0.255425  ... -0.225775 -0.638672  0.101288 -0.339846  0.167170   \n",
            "2  0.247676 -1.514654  ...  0.247998  0.771679  0.909412 -0.689281 -0.327642   \n",
            "3  0.377436 -1.387024  ... -0.108300  0.005274 -0.190321 -1.175575  0.647376   \n",
            "4 -0.270533  0.817739  ... -0.009431  0.798278 -0.137458  0.141267 -0.206010   \n",
            "\n",
            "        V26       V27       V28  Amount  Class  \n",
            "0 -0.189115  0.133558 -0.021053  149.62    0.0  \n",
            "1  0.125895 -0.008983  0.014724    2.69    0.0  \n",
            "2 -0.139097 -0.055353 -0.059752  378.66    0.0  \n",
            "3 -0.221929  0.062723  0.061458  123.50    0.0  \n",
            "4  0.502292  0.219422  0.215153   69.99    0.0  \n",
            "\n",
            "[5 rows x 31 columns]\n"
          ]
        }
      ]
    },
    {
      "cell_type": "code",
      "source": [
        "print(\"\\nInformações gerais sobre o dataset:\")\n",
        "print(df.info())"
      ],
      "metadata": {
        "colab": {
          "base_uri": "https://localhost:8080/"
        },
        "id": "WrsVec4lLCUR",
        "outputId": "79251a15-461f-445f-e3b5-3b64c82dbd5d"
      },
      "execution_count": 64,
      "outputs": [
        {
          "output_type": "stream",
          "name": "stdout",
          "text": [
            "\n",
            "Informações gerais sobre o dataset:\n",
            "<class 'pandas.core.frame.DataFrame'>\n",
            "RangeIndex: 60185 entries, 0 to 60184\n",
            "Data columns (total 31 columns):\n",
            " #   Column  Non-Null Count  Dtype  \n",
            "---  ------  --------------  -----  \n",
            " 0   Time    60185 non-null  int64  \n",
            " 1   V1      60185 non-null  float64\n",
            " 2   V2      60185 non-null  float64\n",
            " 3   V3      60185 non-null  float64\n",
            " 4   V4      60185 non-null  float64\n",
            " 5   V5      60185 non-null  float64\n",
            " 6   V6      60185 non-null  float64\n",
            " 7   V7      60185 non-null  float64\n",
            " 8   V8      60185 non-null  float64\n",
            " 9   V9      60185 non-null  float64\n",
            " 10  V10     60185 non-null  float64\n",
            " 11  V11     60185 non-null  float64\n",
            " 12  V12     60185 non-null  float64\n",
            " 13  V13     60185 non-null  float64\n",
            " 14  V14     60184 non-null  float64\n",
            " 15  V15     60184 non-null  float64\n",
            " 16  V16     60184 non-null  float64\n",
            " 17  V17     60184 non-null  float64\n",
            " 18  V18     60184 non-null  float64\n",
            " 19  V19     60184 non-null  float64\n",
            " 20  V20     60184 non-null  float64\n",
            " 21  V21     60184 non-null  float64\n",
            " 22  V22     60184 non-null  float64\n",
            " 23  V23     60184 non-null  float64\n",
            " 24  V24     60184 non-null  float64\n",
            " 25  V25     60184 non-null  float64\n",
            " 26  V26     60184 non-null  float64\n",
            " 27  V27     60184 non-null  float64\n",
            " 28  V28     60184 non-null  float64\n",
            " 29  Amount  60184 non-null  float64\n",
            " 30  Class   60184 non-null  float64\n",
            "dtypes: float64(30), int64(1)\n",
            "memory usage: 14.2 MB\n",
            "None\n"
          ]
        }
      ]
    },
    {
      "cell_type": "code",
      "source": [
        "print(\"\\nDescrição estatística do dataset:\")\n",
        "print(df.describe())"
      ],
      "metadata": {
        "colab": {
          "base_uri": "https://localhost:8080/"
        },
        "id": "LnVHvceXLCq9",
        "outputId": "5c767f59-1c50-4df6-8e07-c7f2e0c62c21"
      },
      "execution_count": 65,
      "outputs": [
        {
          "output_type": "stream",
          "name": "stdout",
          "text": [
            "\n",
            "Descrição estatística do dataset:\n",
            "               Time            V1            V2            V3            V4  \\\n",
            "count  60185.000000  60185.000000  60185.000000  60185.000000  60185.000000   \n",
            "mean   31941.875550     -0.238644     -0.009610      0.688772      0.170824   \n",
            "std    13711.051389      1.863046      1.655677      1.442914      1.384144   \n",
            "min        0.000000    -56.407510    -72.715728    -32.965346     -5.172595   \n",
            "25%    26391.000000     -0.994859     -0.581353      0.203717     -0.725951   \n",
            "50%    35769.000000     -0.246692      0.075701      0.779575      0.184504   \n",
            "75%    42219.000000      1.154741      0.732475      1.413276      1.052422   \n",
            "max    49199.000000      1.960497     18.183626      4.101716     16.715537   \n",
            "\n",
            "                 V5            V6            V7            V8            V9  \\\n",
            "count  60185.000000  60185.000000  60185.000000  60185.000000  60185.000000   \n",
            "mean      -0.260232      0.102313     -0.114379      0.056342      0.059739   \n",
            "std        1.391106      1.306664      1.249331      1.191551      1.181159   \n",
            "min      -42.147898    -26.160506    -26.548144    -41.484823     -9.283925   \n",
            "25%       -0.879222     -0.636809     -0.604449     -0.144755     -0.650561   \n",
            "50%       -0.293793     -0.152125     -0.074053      0.062210     -0.043374   \n",
            "75%        0.278241      0.491893      0.424409      0.337998      0.729729   \n",
            "max       34.801666     22.529298     36.677268     20.007208     10.392889   \n",
            "\n",
            "       ...           V21           V22           V23           V24  \\\n",
            "count  ...  60184.000000  60184.000000  60184.000000  60184.000000   \n",
            "mean   ...     -0.027854     -0.107553     -0.039928      0.006588   \n",
            "std    ...      0.723342      0.637470      0.592133      0.596520   \n",
            "min    ...    -20.262054    -10.933144    -26.751119     -2.836627   \n",
            "25%    ...     -0.228541     -0.527736     -0.179924     -0.325633   \n",
            "50%    ...     -0.063470     -0.082863     -0.051924      0.061448   \n",
            "75%    ...      0.113082      0.308132      0.078814      0.403087   \n",
            "max    ...     22.614889      5.805795     17.297845      4.014444   \n",
            "\n",
            "                V25           V26           V27           V28        Amount  \\\n",
            "count  60184.000000  60184.000000  60184.000000  60184.000000  60184.000000   \n",
            "mean       0.135790      0.020078      0.002721      0.004358     95.400923   \n",
            "std        0.438516      0.498895      0.383540      0.324566    269.531300   \n",
            "min       -7.495741     -2.534330     -8.567638     -9.617915      0.000000   \n",
            "25%       -0.128226     -0.330081     -0.063422     -0.006298      7.680000   \n",
            "50%        0.173923     -0.075586      0.008974      0.022589     26.000000   \n",
            "75%        0.422118      0.298148      0.082635      0.076341     87.685000   \n",
            "max        5.525093      3.517346     11.135740     33.847808  19656.530000   \n",
            "\n",
            "              Class  \n",
            "count  60184.000000  \n",
            "mean       0.002708  \n",
            "std        0.051972  \n",
            "min        0.000000  \n",
            "25%        0.000000  \n",
            "50%        0.000000  \n",
            "75%        0.000000  \n",
            "max        1.000000  \n",
            "\n",
            "[8 rows x 31 columns]\n"
          ]
        }
      ]
    },
    {
      "cell_type": "code",
      "source": [
        "print(\"\\nValores ausentes por coluna:\")\n",
        "print(df.isnull().sum())"
      ],
      "metadata": {
        "colab": {
          "base_uri": "https://localhost:8080/"
        },
        "id": "EDnitnO8LH8d",
        "outputId": "e51f47e8-d19b-4323-f748-efef25e9923e"
      },
      "execution_count": 66,
      "outputs": [
        {
          "output_type": "stream",
          "name": "stdout",
          "text": [
            "\n",
            "Valores ausentes por coluna:\n",
            "Time      0\n",
            "V1        0\n",
            "V2        0\n",
            "V3        0\n",
            "V4        0\n",
            "V5        0\n",
            "V6        0\n",
            "V7        0\n",
            "V8        0\n",
            "V9        0\n",
            "V10       0\n",
            "V11       0\n",
            "V12       0\n",
            "V13       0\n",
            "V14       1\n",
            "V15       1\n",
            "V16       1\n",
            "V17       1\n",
            "V18       1\n",
            "V19       1\n",
            "V20       1\n",
            "V21       1\n",
            "V22       1\n",
            "V23       1\n",
            "V24       1\n",
            "V25       1\n",
            "V26       1\n",
            "V27       1\n",
            "V28       1\n",
            "Amount    1\n",
            "Class     1\n",
            "dtype: int64\n"
          ]
        }
      ]
    },
    {
      "cell_type": "code",
      "source": [
        "print(\"\\nValores únicos em cada coluna:\")\n",
        "print(df.nunique())"
      ],
      "metadata": {
        "colab": {
          "base_uri": "https://localhost:8080/"
        },
        "id": "SPYRk4PzLLQp",
        "outputId": "aabef285-5907-47d6-e15c-ef9395cf89b9"
      },
      "execution_count": 67,
      "outputs": [
        {
          "output_type": "stream",
          "name": "stdout",
          "text": [
            "\n",
            "Valores únicos em cada coluna:\n",
            "Time      29446\n",
            "V1        58904\n",
            "V2        58904\n",
            "V3        58904\n",
            "V4        58904\n",
            "V5        58904\n",
            "V6        58904\n",
            "V7        58904\n",
            "V8        58904\n",
            "V9        58904\n",
            "V10       58904\n",
            "V11       58904\n",
            "V12       58904\n",
            "V13       58904\n",
            "V14       58903\n",
            "V15       58903\n",
            "V16       58903\n",
            "V17       58903\n",
            "V18       58903\n",
            "V19       58903\n",
            "V20       58903\n",
            "V21       58903\n",
            "V22       58903\n",
            "V23       58903\n",
            "V24       58903\n",
            "V25       58903\n",
            "V26       58903\n",
            "V27       58903\n",
            "V28       58903\n",
            "Amount    14377\n",
            "Class         2\n",
            "dtype: int64\n"
          ]
        }
      ]
    },
    {
      "cell_type": "markdown",
      "source": [
        "Balanceamento das classes:"
      ],
      "metadata": {
        "id": "dCPrHGGDL5Fc"
      }
    },
    {
      "cell_type": "code",
      "source": [
        "df_majority = df[df.Class == 0]\n",
        "df_minority = df[df.Class == 1]\n",
        "\n",
        "df_minority_upsampled = resample(df_minority,\n",
        "                                 replace=True,\n",
        "                                 n_samples=len(df_majority),\n",
        "                                 random_state=123)\n",
        "\n",
        "df_balanced = pd.concat([df_majority, df_minority_upsampled])"
      ],
      "metadata": {
        "id": "iXcXeJM3L4Zu"
      },
      "execution_count": 68,
      "outputs": []
    },
    {
      "cell_type": "markdown",
      "source": [
        "Separação das características e rótulos:\n"
      ],
      "metadata": {
        "id": "VDQPE35dMCdB"
      }
    },
    {
      "cell_type": "code",
      "source": [
        "X = df_balanced.drop('Class', axis=1)\n",
        "y = df_balanced['Class']"
      ],
      "metadata": {
        "id": "avtE2EtAMHa4"
      },
      "execution_count": 69,
      "outputs": []
    },
    {
      "cell_type": "markdown",
      "source": [
        "Divisão em treino e teste:"
      ],
      "metadata": {
        "id": "1-oejmMfMI2o"
      }
    },
    {
      "cell_type": "code",
      "source": [
        "X_train, X_test, y_train, y_test = train_test_split(X, y, test_size=0.3, random_state=42)\n"
      ],
      "metadata": {
        "id": "mNlG-j3UMRgQ"
      },
      "execution_count": 70,
      "outputs": []
    },
    {
      "cell_type": "markdown",
      "source": [
        "Normalização dos dados:"
      ],
      "metadata": {
        "id": "7qVgbJS7MTIF"
      }
    },
    {
      "cell_type": "code",
      "source": [
        "scaler = StandardScaler()\n",
        "X_train = scaler.fit_transform(X_train)\n",
        "X_test = scaler.transform(X_test)"
      ],
      "metadata": {
        "id": "-UsD595eMUtE"
      },
      "execution_count": 71,
      "outputs": []
    },
    {
      "cell_type": "markdown",
      "source": [
        "Tamanho do conjunto de treino e teste:"
      ],
      "metadata": {
        "id": "yeI6nR5mMXRE"
      }
    },
    {
      "cell_type": "code",
      "source": [
        "print(\"Tamanho do conjunto de treino:\", X_train.shape)\n",
        "print(\"Tamanho do conjunto de teste:\", X_test.shape)"
      ],
      "metadata": {
        "colab": {
          "base_uri": "https://localhost:8080/"
        },
        "id": "g8httAZsMdX0",
        "outputId": "46a0c89a-dc3c-40d2-d458-b5960b488ad6"
      },
      "execution_count": 72,
      "outputs": [
        {
          "output_type": "stream",
          "name": "stdout",
          "text": [
            "Tamanho do conjunto de treino: (84029, 30)\n",
            "Tamanho do conjunto de teste: (36013, 30)\n"
          ]
        }
      ]
    },
    {
      "cell_type": "markdown",
      "source": [
        "### Modelo de Rede Neural\n"
      ],
      "metadata": {
        "id": "WKFgzRlOMmqA"
      }
    },
    {
      "cell_type": "markdown",
      "source": [
        "#### Construção do Modelo:\n",
        "Rede neural simples com duas camadas escondidas:\n",
        "- Primeira camada: 16 neurônios, função de ativação ReLU.\n",
        "- Segunda camada: 8 neurônios, função de ativação ReLU.\n",
        "- Camada de saída: 1 neurônio com ativação sigmoide para prever a classe (0 ou 1).\n",
        "\n",
        "#### Compilação:\n",
        "- Otimizador escolhido é o Adam.\n",
        "- Função de perda é binary_crossentropy porque é um problema de classificação binária.\n",
        "\n",
        "#### Treinamento:\n",
        "- O modelo é treinado por 10 épocas com um batch_size de 32.\n",
        "- Foi utilizado 20% dos dados de treino para validação.\n",
        "\n",
        "#### Avaliação:\n",
        "- As previsões (y_pred) são comparadas com os valores reais para calcular as métricas de desempenho.\n",
        "- O relatório de classificação fornece precisão, recall, F1-score e suporte para cada classe.\n",
        "- O AUC-ROC é calculado para avaliar a capacidade do modelo em distinguir entre as classes."
      ],
      "metadata": {
        "id": "lCWMDtKdMpai"
      }
    },
    {
      "cell_type": "code",
      "source": [
        "import tensorflow as tf\n",
        "from tensorflow.keras.models import Sequential\n",
        "from tensorflow.keras.layers import Dense\n",
        "from sklearn.metrics import classification_report, roc_auc_score"
      ],
      "metadata": {
        "id": "MH6hveSYNf4a"
      },
      "execution_count": 73,
      "outputs": []
    },
    {
      "cell_type": "markdown",
      "source": [
        "Construção do modelo de rede neural:"
      ],
      "metadata": {
        "id": "DnyEIyulNjwY"
      }
    },
    {
      "cell_type": "code",
      "source": [
        "model = Sequential([\n",
        "    Dense(16, activation='relu', input_shape=(X_train.shape[1],)),\n",
        "    Dense(8, activation='relu'),\n",
        "    Dense(1, activation='sigmoid')\n",
        "])"
      ],
      "metadata": {
        "colab": {
          "base_uri": "https://localhost:8080/"
        },
        "id": "I_x3N9dZNoEc",
        "outputId": "5f7f0f83-342f-4bb3-bc3f-0be2f96ad459"
      },
      "execution_count": 74,
      "outputs": [
        {
          "output_type": "stream",
          "name": "stderr",
          "text": [
            "/usr/local/lib/python3.10/dist-packages/keras/src/layers/core/dense.py:87: UserWarning: Do not pass an `input_shape`/`input_dim` argument to a layer. When using Sequential models, prefer using an `Input(shape)` object as the first layer in the model instead.\n",
            "  super().__init__(activity_regularizer=activity_regularizer, **kwargs)\n"
          ]
        }
      ]
    },
    {
      "cell_type": "markdown",
      "source": [
        "Compilação do modelo:"
      ],
      "metadata": {
        "id": "z2dC6_EHNoxQ"
      }
    },
    {
      "cell_type": "code",
      "source": [
        "model.compile(optimizer='adam',\n",
        "              loss='binary_crossentropy',\n",
        "              metrics=['accuracy'])"
      ],
      "metadata": {
        "id": "DVKR0oCNNtiL"
      },
      "execution_count": 75,
      "outputs": []
    },
    {
      "cell_type": "markdown",
      "source": [
        "Treinamento do modelo:"
      ],
      "metadata": {
        "id": "ZKIndvZwNvIj"
      }
    },
    {
      "cell_type": "code",
      "source": [
        "history = model.fit(X_train, y_train, epochs=10, batch_size=32, validation_split=0.2, verbose=1)\n"
      ],
      "metadata": {
        "colab": {
          "base_uri": "https://localhost:8080/"
        },
        "id": "vl9S4ImTNw_g",
        "outputId": "8fa37582-7d9f-4e10-dd8b-6f33003adb75"
      },
      "execution_count": 76,
      "outputs": [
        {
          "output_type": "stream",
          "name": "stdout",
          "text": [
            "Epoch 1/10\n",
            "\u001b[1m2101/2101\u001b[0m \u001b[32m━━━━━━━━━━━━━━━━━━━━\u001b[0m\u001b[37m\u001b[0m \u001b[1m6s\u001b[0m 2ms/step - accuracy: 0.9133 - loss: 0.2081 - val_accuracy: 0.9766 - val_loss: 0.0500\n",
            "Epoch 2/10\n",
            "\u001b[1m2101/2101\u001b[0m \u001b[32m━━━━━━━━━━━━━━━━━━━━\u001b[0m\u001b[37m\u001b[0m \u001b[1m4s\u001b[0m 2ms/step - accuracy: 0.9869 - loss: 0.0388 - val_accuracy: 0.9930 - val_loss: 0.0250\n",
            "Epoch 3/10\n",
            "\u001b[1m2101/2101\u001b[0m \u001b[32m━━━━━━━━━━━━━━━━━━━━\u001b[0m\u001b[37m\u001b[0m \u001b[1m6s\u001b[0m 2ms/step - accuracy: 0.9957 - loss: 0.0219 - val_accuracy: 0.9923 - val_loss: 0.0238\n",
            "Epoch 4/10\n",
            "\u001b[1m2101/2101\u001b[0m \u001b[32m━━━━━━━━━━━━━━━━━━━━\u001b[0m\u001b[37m\u001b[0m \u001b[1m4s\u001b[0m 2ms/step - accuracy: 0.9971 - loss: 0.0153 - val_accuracy: 0.9968 - val_loss: 0.0131\n",
            "Epoch 5/10\n",
            "\u001b[1m2101/2101\u001b[0m \u001b[32m━━━━━━━━━━━━━━━━━━━━\u001b[0m\u001b[37m\u001b[0m \u001b[1m5s\u001b[0m 2ms/step - accuracy: 0.9979 - loss: 0.0112 - val_accuracy: 0.9977 - val_loss: 0.0105\n",
            "Epoch 6/10\n",
            "\u001b[1m2101/2101\u001b[0m \u001b[32m━━━━━━━━━━━━━━━━━━━━\u001b[0m\u001b[37m\u001b[0m \u001b[1m5s\u001b[0m 2ms/step - accuracy: 0.9984 - loss: 0.0095 - val_accuracy: 0.9980 - val_loss: 0.0096\n",
            "Epoch 7/10\n",
            "\u001b[1m2101/2101\u001b[0m \u001b[32m━━━━━━━━━━━━━━━━━━━━\u001b[0m\u001b[37m\u001b[0m \u001b[1m4s\u001b[0m 2ms/step - accuracy: 0.9985 - loss: 0.0069 - val_accuracy: 0.9982 - val_loss: 0.0083\n",
            "Epoch 8/10\n",
            "\u001b[1m2101/2101\u001b[0m \u001b[32m━━━━━━━━━━━━━━━━━━━━\u001b[0m\u001b[37m\u001b[0m \u001b[1m4s\u001b[0m 2ms/step - accuracy: 0.9989 - loss: 0.0061 - val_accuracy: 0.9978 - val_loss: 0.0088\n",
            "Epoch 9/10\n",
            "\u001b[1m2101/2101\u001b[0m \u001b[32m━━━━━━━━━━━━━━━━━━━━\u001b[0m\u001b[37m\u001b[0m \u001b[1m5s\u001b[0m 2ms/step - accuracy: 0.9989 - loss: 0.0053 - val_accuracy: 0.9979 - val_loss: 0.0083\n",
            "Epoch 10/10\n",
            "\u001b[1m2101/2101\u001b[0m \u001b[32m━━━━━━━━━━━━━━━━━━━━\u001b[0m\u001b[37m\u001b[0m \u001b[1m5s\u001b[0m 2ms/step - accuracy: 0.9991 - loss: 0.0047 - val_accuracy: 0.9959 - val_loss: 0.0175\n"
          ]
        }
      ]
    },
    {
      "cell_type": "markdown",
      "source": [
        "Avaliação do modelo:"
      ],
      "metadata": {
        "id": "KWp7EhQnN0Ew"
      }
    },
    {
      "cell_type": "code",
      "source": [
        "y_pred = model.predict(X_test)\n",
        "y_pred_classes = (y_pred > 0.5).astype(\"int32\")"
      ],
      "metadata": {
        "colab": {
          "base_uri": "https://localhost:8080/"
        },
        "id": "a04Fa-XQN2Po",
        "outputId": "e0a056ae-c252-4e08-be83-e200ada95778"
      },
      "execution_count": 77,
      "outputs": [
        {
          "output_type": "stream",
          "name": "stdout",
          "text": [
            "\u001b[1m1126/1126\u001b[0m \u001b[32m━━━━━━━━━━━━━━━━━━━━\u001b[0m\u001b[37m\u001b[0m \u001b[1m1s\u001b[0m 1ms/step\n"
          ]
        }
      ]
    },
    {
      "cell_type": "markdown",
      "source": [
        "Métricas de desempenho:"
      ],
      "metadata": {
        "id": "kZXeUqY9N5MH"
      }
    },
    {
      "cell_type": "code",
      "source": [
        "print(\"Relatório de Classificação:\\n\", classification_report(y_test, y_pred_classes))\n",
        "print(\"AUC-ROC:\", roc_auc_score(y_test, y_pred))"
      ],
      "metadata": {
        "colab": {
          "base_uri": "https://localhost:8080/"
        },
        "id": "0pAVqAVWN3_s",
        "outputId": "6f611be7-226a-41c6-e26b-1b1ac38fe338"
      },
      "execution_count": 78,
      "outputs": [
        {
          "output_type": "stream",
          "name": "stdout",
          "text": [
            "Relatório de Classificação:\n",
            "               precision    recall  f1-score   support\n",
            "\n",
            "         0.0       0.99      1.00      1.00     18141\n",
            "         1.0       1.00      0.99      1.00     17872\n",
            "\n",
            "    accuracy                           1.00     36013\n",
            "   macro avg       1.00      1.00      1.00     36013\n",
            "weighted avg       1.00      1.00      1.00     36013\n",
            "\n",
            "AUC-ROC: 0.9998759098688642\n"
          ]
        }
      ]
    },
    {
      "cell_type": "markdown",
      "source": [
        "### Hiperparâmetros"
      ],
      "metadata": {
        "id": "7pQxNdU3OS2F"
      }
    },
    {
      "cell_type": "markdown",
      "source": [
        "- Grid Search: Explora todas as combinações possíveis dos hiperparâmetros fornecidos.\n",
        "- Random Search: Explora um subconjunto aleatório das combinações possíveis, o que pode ser mais rápido em grandes espaços de busca."
      ],
      "metadata": {
        "id": "6F_6HXXUOWgS"
      }
    },
    {
      "cell_type": "markdown",
      "source": [
        "### Grid Search\n"
      ],
      "metadata": {
        "id": "9uXYafuCOfxy"
      }
    },
    {
      "cell_type": "code",
      "source": [
        "pip install keras-tuner\n"
      ],
      "metadata": {
        "colab": {
          "base_uri": "https://localhost:8080/"
        },
        "id": "-NNl8PdTRHwI",
        "outputId": "75c173f5-2861-4b77-bbcd-e23278578a11"
      },
      "execution_count": 79,
      "outputs": [
        {
          "output_type": "stream",
          "name": "stdout",
          "text": [
            "Requirement already satisfied: keras-tuner in /usr/local/lib/python3.10/dist-packages (1.4.7)\n",
            "Requirement already satisfied: keras in /usr/local/lib/python3.10/dist-packages (from keras-tuner) (3.4.1)\n",
            "Requirement already satisfied: packaging in /usr/local/lib/python3.10/dist-packages (from keras-tuner) (24.1)\n",
            "Requirement already satisfied: requests in /usr/local/lib/python3.10/dist-packages (from keras-tuner) (2.32.3)\n",
            "Requirement already satisfied: kt-legacy in /usr/local/lib/python3.10/dist-packages (from keras-tuner) (1.0.5)\n",
            "Requirement already satisfied: absl-py in /usr/local/lib/python3.10/dist-packages (from keras->keras-tuner) (1.4.0)\n",
            "Requirement already satisfied: numpy in /usr/local/lib/python3.10/dist-packages (from keras->keras-tuner) (1.26.4)\n",
            "Requirement already satisfied: rich in /usr/local/lib/python3.10/dist-packages (from keras->keras-tuner) (13.8.0)\n",
            "Requirement already satisfied: namex in /usr/local/lib/python3.10/dist-packages (from keras->keras-tuner) (0.0.8)\n",
            "Requirement already satisfied: h5py in /usr/local/lib/python3.10/dist-packages (from keras->keras-tuner) (3.11.0)\n",
            "Requirement already satisfied: optree in /usr/local/lib/python3.10/dist-packages (from keras->keras-tuner) (0.12.1)\n",
            "Requirement already satisfied: ml-dtypes in /usr/local/lib/python3.10/dist-packages (from keras->keras-tuner) (0.4.0)\n",
            "Requirement already satisfied: charset-normalizer<4,>=2 in /usr/local/lib/python3.10/dist-packages (from requests->keras-tuner) (3.3.2)\n",
            "Requirement already satisfied: idna<4,>=2.5 in /usr/local/lib/python3.10/dist-packages (from requests->keras-tuner) (3.8)\n",
            "Requirement already satisfied: urllib3<3,>=1.21.1 in /usr/local/lib/python3.10/dist-packages (from requests->keras-tuner) (2.0.7)\n",
            "Requirement already satisfied: certifi>=2017.4.17 in /usr/local/lib/python3.10/dist-packages (from requests->keras-tuner) (2024.7.4)\n",
            "Requirement already satisfied: typing-extensions>=4.5.0 in /usr/local/lib/python3.10/dist-packages (from optree->keras->keras-tuner) (4.12.2)\n",
            "Requirement already satisfied: markdown-it-py>=2.2.0 in /usr/local/lib/python3.10/dist-packages (from rich->keras->keras-tuner) (3.0.0)\n",
            "Requirement already satisfied: pygments<3.0.0,>=2.13.0 in /usr/local/lib/python3.10/dist-packages (from rich->keras->keras-tuner) (2.16.1)\n",
            "Requirement already satisfied: mdurl~=0.1 in /usr/local/lib/python3.10/dist-packages (from markdown-it-py>=2.2.0->rich->keras->keras-tuner) (0.1.2)\n"
          ]
        }
      ]
    },
    {
      "cell_type": "code",
      "source": [
        "import pandas as pd\n",
        "from sklearn.model_selection import train_test_split\n",
        "from sklearn.preprocessing import StandardScaler\n",
        "from sklearn.metrics import precision_recall_fscore_support, roc_auc_score\n",
        "from tensorflow.keras.models import Sequential\n",
        "from tensorflow.keras.layers import Dense\n",
        "import keras_tuner as kt\n",
        "import plotly.graph_objs as go\n",
        "import plotly.express as px"
      ],
      "metadata": {
        "id": "DR9vzFr2QlAK"
      },
      "execution_count": 80,
      "outputs": []
    },
    {
      "cell_type": "code",
      "source": [
        "# Balanceamento das classes\n",
        "from sklearn.utils import resample\n",
        "\n",
        "df_majority = df[df.Class == 0]\n",
        "df_minority = df[df.Class == 1]\n",
        "\n",
        "df_minority_upsampled = resample(df_minority,\n",
        "                                 replace=True,  # sample with replacement\n",
        "                                 n_samples=len(df_majority),  # to match majority class\n",
        "                                 random_state=123)  # reproducible results\n",
        "\n",
        "df_balanced = pd.concat([df_majority, df_minority_upsampled])\n",
        "\n",
        "# Separar características e rótulos\n",
        "X = df_balanced.drop('Class', axis=1)\n",
        "y = df_balanced['Class']\n",
        "\n",
        "# Dividir em treino e teste\n",
        "X_train, X_test, y_train, y_test = train_test_split(X, y, test_size=0.3, random_state=42)\n",
        "\n",
        "# Normalizar os dados\n",
        "scaler = StandardScaler()\n",
        "X_train = scaler.fit_transform(X_train)\n",
        "X_test = scaler.transform(X_test)\n",
        "\n",
        "# Verificar shapes dos conjuntos de treino e teste\n",
        "print(\"Tamanho do conjunto de treino:\", X_train.shape)\n",
        "print(\"Tamanho do conjunto de teste:\", X_test.shape)\n",
        "\n",
        "# Definir a função para construir o modelo\n",
        "def build_model(hp):\n",
        "    model = Sequential()\n",
        "    model.add(Dense(units=hp.Int('units_1', min_value=16, max_value=64, step=16), activation='relu', input_shape=(X_train.shape[1],)))\n",
        "    model.add(Dense(units=hp.Int('units_2', min_value=8, max_value=32, step=8), activation='relu'))\n",
        "    model.add(Dense(1, activation='sigmoid'))\n",
        "\n",
        "    model.compile(optimizer=hp.Choice('optimizer', values=['adam', 'rmsprop']),\n",
        "                  loss='binary_crossentropy',\n",
        "                  metrics=['accuracy'])\n",
        "    return model\n",
        "\n",
        "# Criar o tuner\n",
        "tuner = kt.RandomSearch(\n",
        "    build_model,\n",
        "    objective='val_accuracy',\n",
        "    max_trials=10,\n",
        "    executions_per_trial=1,\n",
        "    directory='kt_dir',\n",
        "    project_name='credit_card_fraud_detection'\n",
        ")\n",
        "\n",
        "# Realizar a busca de hiperparâmetros\n",
        "tuner.search(X_train, y_train, epochs=10, validation_split=0.2, batch_size=32, verbose=1)\n",
        "\n",
        "# Obter o melhor modelo\n",
        "best_model = tuner.get_best_models(num_models=1)[0]\n",
        "\n",
        "# Avaliar o modelo\n",
        "y_pred = best_model.predict(X_test)\n",
        "y_pred_classes = (y_pred > 0.5).astype(\"int32\")\n",
        "\n",
        "# Obter as métricas de desempenho\n",
        "precision, recall, f1_score, _ = precision_recall_fscore_support(y_test, y_pred_classes, average='binary')\n",
        "print(\"Precision:\", precision)\n",
        "print(\"Recall:\", recall)\n",
        "print(\"F1 Score:\", f1_score)\n",
        "print(\"AUC-ROC:\", roc_auc_score(y_test, y_pred))\n"
      ],
      "metadata": {
        "colab": {
          "base_uri": "https://localhost:8080/"
        },
        "id": "O7ZWElkRR7Zr",
        "outputId": "fd9febfe-906c-4454-d039-66b062f7c71f"
      },
      "execution_count": 81,
      "outputs": [
        {
          "output_type": "stream",
          "name": "stdout",
          "text": [
            "Trial 10 Complete [00h 00m 55s]\n",
            "val_accuracy: 0.9993454813957214\n",
            "\n",
            "Best val_accuracy So Far: 0.9995239973068237\n",
            "Total elapsed time: 00h 10m 33s\n",
            "\u001b[1m   1/1126\u001b[0m \u001b[37m━━━━━━━━━━━━━━━━━━━━\u001b[0m \u001b[1m56s\u001b[0m 51ms/step"
          ]
        },
        {
          "output_type": "stream",
          "name": "stderr",
          "text": [
            "/usr/local/lib/python3.10/dist-packages/keras/src/layers/core/dense.py:87: UserWarning: Do not pass an `input_shape`/`input_dim` argument to a layer. When using Sequential models, prefer using an `Input(shape)` object as the first layer in the model instead.\n",
            "  super().__init__(activity_regularizer=activity_regularizer, **kwargs)\n",
            "/usr/local/lib/python3.10/dist-packages/keras/src/saving/saving_lib.py:576: UserWarning: Skipping variable loading for optimizer 'adam', because it has 2 variables whereas the saved optimizer has 14 variables. \n",
            "  saveable.load_own_variables(weights_store.get(inner_path))\n"
          ]
        },
        {
          "output_type": "stream",
          "name": "stdout",
          "text": [
            "\u001b[1m1126/1126\u001b[0m \u001b[32m━━━━━━━━━━━━━━━━━━━━\u001b[0m\u001b[37m\u001b[0m \u001b[1m1s\u001b[0m 1ms/step\n",
            "Precision: 0.9995525727069351\n",
            "Recall: 1.0\n",
            "F1 Score: 0.999776236294473\n",
            "AUC-ROC: 0.999991400793259\n"
          ]
        }
      ]
    },
    {
      "cell_type": "code",
      "source": [],
      "metadata": {
        "id": "pZjw-Z2jRxUU"
      },
      "execution_count": 81,
      "outputs": []
    }
  ]
}