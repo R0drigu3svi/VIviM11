{
  "nbformat": 4,
  "nbformat_minor": 0,
  "metadata": {
    "colab": {
      "provenance": []
    },
    "kernelspec": {
      "name": "python3",
      "display_name": "Python 3"
    },
    "language_info": {
      "name": "python"
    }
  },
  "cells": [
    {
      "cell_type": "markdown",
      "source": [
        "## Detecção de Fraudes no IEEE-CIS Fraud Detection com LSTM no PyTorch"
      ],
      "metadata": {
        "id": "3EYBAv771Bem"
      }
    },
    {
      "cell_type": "markdown",
      "source": [
        "## Objetivo da Ponderada\n",
        "\n",
        "O objetivo desta atividade é aplicar técnicas de aprendizado de máquina para a detecção de fraudes em transações financeiras utilizando o dataset IEEE-CIS Fraud Detection. Por meio de uma abordagem sistemática, buscamos:\n",
        "\n",
        "1. **Carregar e Explorar o Dataset**: Realizar uma análise exploratória dos dados para entender as características das transações, identificando distribuições, correlações e possíveis outliers.\n",
        "\n",
        "2. **Preparar os Dados**: Implementar o tratamento de valores ausentes, normalização e a criação de sequências temporais, garantindo que os dados estejam adequados para o treinamento de um modelo LSTM.\n",
        "\n",
        "3. **Definir a Arquitetura do Modelo**: Selecionar e configurar a estrutura da rede LSTM, escolhendo o número de camadas, neurônios e hiperparâmetros relevantes para maximizar a eficácia do modelo.\n",
        "\n",
        "4. **Treinamento e Validação**: Treinar o modelo utilizando um conjunto de dados de treinamento e validar seu desempenho em um conjunto de teste, aplicando métricas como precisão, recall, F1-score e AUC-ROC.\n",
        "\n",
        "5. **Análise de Resultados**: Avaliar o desempenho do modelo, identificar problemas como overfitting ou underfitting e discutir estratégias para melhorar a performance, extraindo insights valiosos ao longo do processo.\n",
        "\n",
        "Por meio desta atividade, espera-se não apenas desenvolver um modelo eficiente de detecção de fraudes, mas também aprofundar a compreensão sobre as metodologias de machine learning aplicadas a cenários reais de análise de dados financeiros.\n"
      ],
      "metadata": {
        "id": "E-bJpwVBZTk4"
      }
    },
    {
      "cell_type": "code",
      "source": [
        "import pandas as pd"
      ],
      "metadata": {
        "id": "3j-_rmXA3xAb"
      },
      "execution_count": 3,
      "outputs": []
    },
    {
      "cell_type": "code",
      "source": [
        "print(\"\\nCarregamento do dataset + primeiras linhas do dataset:\")\n",
        "df = pd.read_csv('/content/train_transaction.csv')\n",
        "print(df.head())"
      ],
      "metadata": {
        "colab": {
          "base_uri": "https://localhost:8080/"
        },
        "id": "SqxDxWlpzcEu",
        "outputId": "78a2d54d-b195-4895-a36f-b687f0ec75f8"
      },
      "execution_count": 4,
      "outputs": [
        {
          "output_type": "stream",
          "name": "stdout",
          "text": [
            "\n",
            "Carregamento do dataset + primeiras linhas do dataset:\n",
            "   TransactionID  isFraud  TransactionDT  TransactionAmt ProductCD  card1  \\\n",
            "0        2987000        0          86400            68.5         W  13926   \n",
            "1        2987001        0          86401            29.0         W   2755   \n",
            "2        2987002        0          86469            59.0         W   4663   \n",
            "3        2987003        0          86499            50.0         W  18132   \n",
            "4        2987004        0          86506            50.0         H   4497   \n",
            "\n",
            "   card2  card3       card4  card5  ... V330  V331  V332  V333  V334 V335  \\\n",
            "0    NaN  150.0    discover  142.0  ...  NaN   NaN   NaN   NaN   NaN  NaN   \n",
            "1  404.0  150.0  mastercard  102.0  ...  NaN   NaN   NaN   NaN   NaN  NaN   \n",
            "2  490.0  150.0        visa  166.0  ...  NaN   NaN   NaN   NaN   NaN  NaN   \n",
            "3  567.0  150.0  mastercard  117.0  ...  NaN   NaN   NaN   NaN   NaN  NaN   \n",
            "4  514.0  150.0  mastercard  102.0  ...  0.0   0.0   0.0   0.0   0.0  0.0   \n",
            "\n",
            "  V336  V337  V338  V339  \n",
            "0  NaN   NaN   NaN   NaN  \n",
            "1  NaN   NaN   NaN   NaN  \n",
            "2  NaN   NaN   NaN   NaN  \n",
            "3  NaN   NaN   NaN   NaN  \n",
            "4  0.0   0.0   0.0   0.0  \n",
            "\n",
            "[5 rows x 394 columns]\n"
          ]
        }
      ]
    },
    {
      "cell_type": "code",
      "source": [
        "print(\"\\nInformações gerais sobre o dataset:\")\n",
        "print(df.info())"
      ],
      "metadata": {
        "id": "oGuGpA2R3edL",
        "colab": {
          "base_uri": "https://localhost:8080/"
        },
        "outputId": "af478c46-6c14-4141-903c-d2886a4279c8"
      },
      "execution_count": 5,
      "outputs": [
        {
          "output_type": "stream",
          "name": "stdout",
          "text": [
            "\n",
            "Informações gerais sobre o dataset:\n",
            "<class 'pandas.core.frame.DataFrame'>\n",
            "RangeIndex: 2845 entries, 0 to 2844\n",
            "Columns: 394 entries, TransactionID to V339\n",
            "dtypes: float64(376), int64(4), object(14)\n",
            "memory usage: 8.6+ MB\n",
            "None\n"
          ]
        }
      ]
    },
    {
      "cell_type": "code",
      "source": [
        "print(\"\\nDescrição estatística do dataset:\")\n",
        "print(df.describe())"
      ],
      "metadata": {
        "id": "iiB0a_q54Be6",
        "colab": {
          "base_uri": "https://localhost:8080/"
        },
        "outputId": "5e0c6904-24ba-4967-c68a-2e53f05e1c92"
      },
      "execution_count": 6,
      "outputs": [
        {
          "output_type": "stream",
          "name": "stdout",
          "text": [
            "\n",
            "Descrição estatística do dataset:\n",
            "       TransactionID      isFraud  TransactionDT  TransactionAmt  \\\n",
            "count   2.845000e+03  2845.000000    2845.000000     2845.000000   \n",
            "mean    2.988422e+06     0.020035  123765.215466      148.322633   \n",
            "std     8.214251e+02     0.140145   21840.174108      266.904608   \n",
            "min     2.987000e+06     0.000000   86400.000000        1.896000   \n",
            "25%     2.987711e+06     0.000000  100085.000000       47.950000   \n",
            "50%     2.988422e+06     0.000000  133404.000000       78.950000   \n",
            "75%     2.989133e+06     0.000000  143049.000000      150.000000   \n",
            "max     2.989844e+06     1.000000  150104.000000     3247.910000   \n",
            "\n",
            "              card1        card2        card3        card5        addr1  \\\n",
            "count   2845.000000  2794.000000  2845.000000  2841.000000  2609.000000   \n",
            "mean    9819.377856   345.560845   152.573286   201.773319   293.175929   \n",
            "std     4713.466892   159.849892     9.447649    37.194256   102.685375   \n",
            "min     1039.000000   100.000000   117.000000   100.000000   110.000000   \n",
            "25%     6546.000000   194.000000   150.000000   190.000000   204.000000   \n",
            "50%     9500.000000   321.000000   150.000000   224.000000   299.000000   \n",
            "75%    13719.000000   500.000000   150.000000   226.000000   330.000000   \n",
            "max    18390.000000   600.000000   191.000000   236.000000   536.000000   \n",
            "\n",
            "             addr2  ...        V330         V331         V332         V333  \\\n",
            "count  2609.000000  ...  366.000000   366.000000   366.000000   366.000000   \n",
            "mean     87.010349  ...    0.226776    53.969945    67.204918    59.131148   \n",
            "std       0.305070  ...    0.762436   205.227683   216.938863   208.515757   \n",
            "min      87.000000  ...    0.000000     0.000000     0.000000     0.000000   \n",
            "25%      87.000000  ...    0.000000     0.000000     0.000000     0.000000   \n",
            "50%      87.000000  ...    0.000000     0.000000     0.000000     0.000000   \n",
            "75%      87.000000  ...    0.000000     0.000000     0.000000     0.000000   \n",
            "max      96.000000  ...    6.000000  1600.000000  1600.000000  1600.000000   \n",
            "\n",
            "             V334         V335        V336        V337        V338        V339  \n",
            "count  366.000000   366.000000  366.000000  366.000000  366.000000  366.000000  \n",
            "mean     0.773224     9.975410    2.928962   18.155738   19.456284   18.428962  \n",
            "std      8.603309    68.239441   23.600334   68.048736   69.664653   68.176275  \n",
            "min      0.000000     0.000000    0.000000    0.000000    0.000000    0.000000  \n",
            "25%      0.000000     0.000000    0.000000    0.000000    0.000000    0.000000  \n",
            "50%      0.000000     0.000000    0.000000    0.000000    0.000000    0.000000  \n",
            "75%      0.000000     0.000000    0.000000    0.000000    0.000000    0.000000  \n",
            "max    150.000000  1129.000000  400.000000  600.000000  600.000000  600.000000  \n",
            "\n",
            "[8 rows x 380 columns]\n"
          ]
        }
      ]
    },
    {
      "cell_type": "code",
      "source": [
        "print(\"\\nValores ausentes por coluna:\")\n",
        "print(df.isnull().sum())"
      ],
      "metadata": {
        "id": "EtQ9g9rF4FB6",
        "colab": {
          "base_uri": "https://localhost:8080/"
        },
        "outputId": "529e2be4-4546-410c-b336-6cce3aa7ce83"
      },
      "execution_count": 7,
      "outputs": [
        {
          "output_type": "stream",
          "name": "stdout",
          "text": [
            "\n",
            "Valores ausentes por coluna:\n",
            "TransactionID        0\n",
            "isFraud              0\n",
            "TransactionDT        0\n",
            "TransactionAmt       0\n",
            "ProductCD            0\n",
            "                  ... \n",
            "V335              2479\n",
            "V336              2479\n",
            "V337              2479\n",
            "V338              2479\n",
            "V339              2479\n",
            "Length: 394, dtype: int64\n"
          ]
        }
      ]
    },
    {
      "cell_type": "code",
      "source": [
        "print(\"\\nValores únicos em cada coluna:\")\n",
        "print(df.nunique())"
      ],
      "metadata": {
        "id": "641rPsG44N3A",
        "colab": {
          "base_uri": "https://localhost:8080/"
        },
        "outputId": "f60a9426-57cf-46ad-c66a-09be6ac4afe9"
      },
      "execution_count": 8,
      "outputs": [
        {
          "output_type": "stream",
          "name": "stdout",
          "text": [
            "\n",
            "Valores únicos em cada coluna:\n",
            "TransactionID     2845\n",
            "isFraud              2\n",
            "TransactionDT     2762\n",
            "TransactionAmt     625\n",
            "ProductCD            5\n",
            "                  ... \n",
            "V335                19\n",
            "V336                14\n",
            "V337                18\n",
            "V338                21\n",
            "V339                18\n",
            "Length: 394, dtype: int64\n"
          ]
        }
      ]
    },
    {
      "cell_type": "markdown",
      "source": [
        "## Análise Exploratória dos Dados"
      ],
      "metadata": {
        "id": "M20xMoY15XZ0"
      }
    },
    {
      "cell_type": "markdown",
      "source": [
        "- Distribuição da coluna de interesse 'isFraud'\n",
        "- Porcentagem de valores ausentes\n",
        "- Distribuição da variável TransactionAmt (quantia de transações)\n"
      ],
      "metadata": {
        "id": "lvdJH9Ka5WgM"
      }
    },
    {
      "cell_type": "code",
      "source": [
        "import pandas as pd\n",
        "import seaborn as sns\n",
        "import matplotlib.pyplot as plt"
      ],
      "metadata": {
        "id": "ayT-v6uq5yo-"
      },
      "execution_count": 9,
      "outputs": []
    },
    {
      "cell_type": "markdown",
      "source": [
        "### Verificação de Valores Nulos"
      ],
      "metadata": {
        "id": "tHziX8_d6qAV"
      }
    },
    {
      "cell_type": "markdown",
      "source": [
        "Quantidade de valores ausentes por coluna e os maiores infratores."
      ],
      "metadata": {
        "id": "fgNHE5KG6oYd"
      }
    },
    {
      "cell_type": "code",
      "source": [
        "missing_values = df.isnull().sum() / len(df) * 100\n",
        "print(\"Percentual de valores ausentes por coluna:\\n\", missing_values[missing_values > 0].sort_values(ascending=False).head(10))\n"
      ],
      "metadata": {
        "id": "YE10RSCI6vz6",
        "colab": {
          "base_uri": "https://localhost:8080/"
        },
        "outputId": "4d5b74ea-6d68-4323-b637-295034810ec0"
      },
      "execution_count": 10,
      "outputs": [
        {
          "output_type": "stream",
          "name": "stdout",
          "text": [
            "Percentual de valores ausentes por coluna:\n",
            " D7       96.590510\n",
            "dist2    94.727592\n",
            "D13      93.813708\n",
            "D14      92.970123\n",
            "D12      92.759227\n",
            "D6       91.915641\n",
            "D9       89.209139\n",
            "D8       89.209139\n",
            "V148     87.170475\n",
            "V147     87.170475\n",
            "dtype: float64\n"
          ]
        }
      ]
    },
    {
      "cell_type": "markdown",
      "source": [
        "### Distribuição das Transações Fraudulentas (isFraud)"
      ],
      "metadata": {
        "id": "wBn9lYuc6_Iq"
      }
    },
    {
      "cell_type": "markdown",
      "source": [
        "Distribuição da variável alvo (isFraud), que é o indicador de fraude no dataset."
      ],
      "metadata": {
        "id": "SAkKmu5y69-B"
      }
    },
    {
      "cell_type": "code",
      "source": [
        "# Distribuição da coluna isFraud\n",
        "plt.figure(figsize=(6,4))\n",
        "sns.countplot(data=df, x='isFraud')\n",
        "plt.title(\"Distribuição de Fraudes (isFraud)\")\n",
        "plt.show()\n"
      ],
      "metadata": {
        "id": "K-IAMWAw7FsB",
        "colab": {
          "base_uri": "https://localhost:8080/",
          "height": 410
        },
        "outputId": "91b0b4c5-5549-4667-8dad-1f87213073f9"
      },
      "execution_count": 11,
      "outputs": [
        {
          "output_type": "display_data",
          "data": {
            "text/plain": [
              "<Figure size 600x400 with 1 Axes>"
            ],
            "image/png": "[encoded data removed]"
          },
          "metadata": {}
        }
      ]
    },
    {
      "cell_type": "markdown",
      "source": [
        "### Distribuição das Quantias das Transações (TransactionAmt)\n"
      ],
      "metadata": {
        "id": "6wshWQiW7ZS5"
      }
    },
    {
      "cell_type": "markdown",
      "source": [
        "Visualização das transações distribuídas em termos de valor."
      ],
      "metadata": {
        "id": "40hD7D6d7YgG"
      }
    },
    {
      "cell_type": "code",
      "source": [
        "plt.figure(figsize=(10,6))\n",
        "sns.histplot(df['TransactionAmt'], bins=50, kde=True)\n",
        "plt.title('Distribuição da Quantia das Transações')\n",
        "plt.xlabel('Quantia')\n",
        "plt.ylabel('Frequência')\n",
        "plt.show()\n"
      ],
      "metadata": {
        "id": "yGwBi7qQ7gnW",
        "colab": {
          "base_uri": "https://localhost:8080/",
          "height": 564
        },
        "outputId": "17b5d7c3-8984-47a9-a0c2-6271b7073591"
      },
      "execution_count": 12,
      "outputs": [
        {
          "output_type": "display_data",
          "data": {
            "text/plain": [
              "<Figure size 1000x600 with 1 Axes>"
            ],
            "image/png": "[encoded data removed]"
          },
          "metadata": {}
        }
      ]
    },
    {
      "cell_type": "markdown",
      "source": [
        "### Correlação entre Variáveis"
      ],
      "metadata": {
        "id": "SuK3e53F7mWt"
      }
    },
    {
      "cell_type": "markdown",
      "source": [
        "\n",
        "Cálculo e visualização da matriz de correlação entre as variáveis numéricas. A matriz de correlação é crucial para entender as relações entre as variáveis e pode ajudar a identificar colinearidade ou padrões interessantes.\n",
        "\n",
        "Passos:\n",
        "- seleção das colunas numéricas\n",
        "- cálculo da matriz de correlação\n",
        "- matriz de correlação em forma de heatmap\n",
        "- variáveis com maior correlação com isFraud"
      ],
      "metadata": {
        "id": "ActAerE_7lh_"
      }
    },
    {
      "cell_type": "markdown",
      "source": [
        "### Análise da Correlação Entre Variáveis Categóricas\n"
      ],
      "metadata": {
        "id": "OVILU1fX_NX0"
      }
    },
    {
      "cell_type": "markdown",
      "source": [
        "Análise da correlação entre as variáveis categóricas, como card4 (tipo de cartão) e ProductCD."
      ],
      "metadata": {
        "id": "jVEdNNxD_QK7"
      }
    },
    {
      "cell_type": "code",
      "source": [
        "plt.figure(figsize=(8,6))\n",
        "sns.countplot(data=df, x='card4', hue='isFraud')\n",
        "plt.title(\"Distribuição de isFraud por Tipo de Cartão (card4)\")\n",
        "plt.show()\n",
        "\n",
        "plt.figure(figsize=(8,6))\n",
        "sns.countplot(data=df, x='ProductCD', hue='isFraud')\n",
        "plt.title(\"Distribuição de isFraud por Produto (ProductCD)\")\n",
        "plt.show()\n"
      ],
      "metadata": {
        "id": "468dY8c__Pr1",
        "colab": {
          "base_uri": "https://localhost:8080/",
          "height": 1000
        },
        "outputId": "553c282a-9ef6-40c6-ecbf-ed3760e445b0"
      },
      "execution_count": 13,
      "outputs": [
        {
          "output_type": "display_data",
          "data": {
            "text/plain": [
              "<Figure size 800x600 with 1 Axes>"
            ],
            "image/png": "[encoded data removed]"
          },
          "metadata": {}
        },
        {
          "output_type": "display_data",
          "data": {
            "text/plain": [
              "<Figure size 800x600 with 1 Axes>"
            ],
            "image/png": "[encoded data removed]"
          },
          "metadata": {}
        }
      ]
    },
    {
      "cell_type": "markdown",
      "source": [
        "### Documentação da Análise Exploratória:\n",
        "* **Informações Gerais:** O dataset contém 394 colunas e uma grande quantidade de dados ausentes, especialmente nas variáveis V336 a V339.\n",
        "\n",
        "* **Valores Ausentes:** A visualização da matriz de valores ausentes destacou colunas com grandes proporções de dados faltantes, como as variáveis relacionadas a V e card.\n",
        "\n",
        "* **Distribuição de Transações Fraudulentas:** Foi observado que o dataset está desbalanceado, com uma pequena proporção de transações fraudulentas.\n",
        "\n",
        "* **Distribuição das Quantias de Transação:** A maior parte das transações tem valores relativamente baixos, e há uma cauda longa de valores mais altos, o que é típico em dados financeiros.\n",
        "\n",
        "* **Correlação entre Variáveis:** A matriz de correlação mostrou que várias variáveis numéricas têm correlações pequenas com isFraud, o que pode indicar que muitas variáveis relevantes não têm correlação linear direta.\n",
        "\n",
        "* **Correlação de Variáveis Categóricas:** A distribuição de fraudes varia entre os diferentes tipos de cartão (card4) e produtos (ProductCD). Alguns tipos de cartão (como Discover) parecem estar mais associados a fraudes do que outros."
      ],
      "metadata": {
        "id": "7KNMkziM_sQb"
      }
    },
    {
      "cell_type": "markdown",
      "source": [
        "### Tratamento de Valores Ausentes\n"
      ],
      "metadata": {
        "id": "czq5PHRHDd_p"
      }
    },
    {
      "cell_type": "markdown",
      "source": [
        "Antes de treinar o modelo LSTM, é preciso lidar com os valores ausentes e preparar os dados.\n",
        "\n",
        "- Preenchimento de valores ausentes para variáveis numéricas com a mediana\n",
        "- Preenchimento de valores ausentes para variáveis categóricas com \"unknown\"\n"
      ],
      "metadata": {
        "id": "Z32sr4JLDgwL"
      }
    },
    {
      "cell_type": "code",
      "source": [
        "numeric_cols = df.select_dtypes(include=['float64', 'int64']).columns\n",
        "df[numeric_cols] = df[numeric_cols].fillna(df[numeric_cols].median())\n",
        "\n",
        "categorical_cols = df.select_dtypes(include=['object']).columns\n",
        "df[categorical_cols] = df[categorical_cols].fillna('unknown')\n",
        "\n",
        "print(df.isnull().sum().sum())\n"
      ],
      "metadata": {
        "id": "IKELCUPw_Vjy",
        "colab": {
          "base_uri": "https://localhost:8080/"
        },
        "outputId": "dc8a29db-3854-4800-e9de-2d44b9262b84"
      },
      "execution_count": 14,
      "outputs": [
        {
          "output_type": "stream",
          "name": "stdout",
          "text": [
            "0\n"
          ]
        }
      ]
    },
    {
      "cell_type": "markdown",
      "source": [
        "### Codificação de Variáveis Categóricas (One-Hot Encoding)\n"
      ],
      "metadata": {
        "id": "dsadmiJKD8XN"
      }
    },
    {
      "cell_type": "markdown",
      "source": [
        "Variáveis categóricas como ProductCD e card4 precisam ser convertidas em forma numérica para serem usadas no modelo."
      ],
      "metadata": {
        "id": "6xBDaygVD7f-"
      }
    },
    {
      "cell_type": "code",
      "source": [
        "df = pd.get_dummies(df, columns=categorical_cols, drop_first=True)\n",
        "\n",
        "print(f\"Formato do dataset após One-Hot Encoding: {df.shape}\")\n"
      ],
      "metadata": {
        "id": "ojfoHkyEEAS2",
        "colab": {
          "base_uri": "https://localhost:8080/"
        },
        "outputId": "6dd441e0-262b-4ce6-9246-0c9520a56f12"
      },
      "execution_count": 15,
      "outputs": [
        {
          "output_type": "stream",
          "name": "stdout",
          "text": [
            "Formato do dataset após One-Hot Encoding: (2845, 468)\n"
          ]
        }
      ]
    },
    {
      "cell_type": "markdown",
      "source": [
        "### Normalização dos Dados\n"
      ],
      "metadata": {
        "id": "58erA5nnEGC-"
      }
    },
    {
      "cell_type": "markdown",
      "source": [
        "Por ser uma rede neural, a normalização dos dados numéricos é essencial. Será utilizado Min-Max Scaling para normalizar os valores entre 0 e 1."
      ],
      "metadata": {
        "id": "iKEo6regEFQI"
      }
    },
    {
      "cell_type": "code",
      "source": [
        "from sklearn.preprocessing import MinMaxScaler\n",
        "\n",
        "scaler = MinMaxScaler()\n",
        "df[numeric_cols] = scaler.fit_transform(df[numeric_cols])\n",
        "\n",
        "print(df.head())\n"
      ],
      "metadata": {
        "id": "4OmzcsvaEKC-",
        "colab": {
          "base_uri": "https://localhost:8080/"
        },
        "outputId": "39914895-560f-4441-f656-636084f88c70"
      },
      "execution_count": 16,
      "outputs": [
        {
          "output_type": "stream",
          "name": "stdout",
          "text": [
            "   TransactionID  isFraud  TransactionDT  TransactionAmt     card1  card2  \\\n",
            "0       0.000000      0.0       0.000000        0.020519  0.742724  0.442   \n",
            "1       0.000352      0.0       0.000016        0.008350  0.098899  0.608   \n",
            "2       0.000703      0.0       0.001083        0.017592  0.208864  0.780   \n",
            "3       0.001055      0.0       0.001554        0.014819  0.985131  0.934   \n",
            "4       0.001406      0.0       0.001664        0.014819  0.199297  0.828   \n",
            "\n",
            "      card3     card5     addr1  addr2  ...   M5_T  M5_unknown   M6_T  \\\n",
            "0  0.445946  0.308824  0.481221    0.0  ...  False       False   True   \n",
            "1  0.445946  0.014706  0.504695    0.0  ...   True       False   True   \n",
            "2  0.445946  0.485294  0.516432    0.0  ...  False       False  False   \n",
            "3  0.445946  0.125000  0.859155    0.0  ...   True       False  False   \n",
            "4  0.445946  0.014706  0.727700    0.0  ...  False        True  False   \n",
            "\n",
            "   M6_unknown   M7_T  M7_unknown   M8_T  M8_unknown   M9_T  M9_unknown  \n",
            "0       False  False        True  False        True  False        True  \n",
            "1       False  False        True  False        True  False        True  \n",
            "2       False  False       False  False       False  False       False  \n",
            "3       False  False        True  False        True  False        True  \n",
            "4        True  False        True  False        True  False        True  \n",
            "\n",
            "[5 rows x 468 columns]\n"
          ]
        }
      ]
    },
    {
      "cell_type": "markdown",
      "source": [
        "### Criação de Sequências Temporais para LSTM\n"
      ],
      "metadata": {
        "id": "RG5l2NzmEXHu"
      }
    },
    {
      "cell_type": "markdown",
      "source": [
        "O LSTM é uma arquitetura de rede neural recorrente que é particularmente boa para lidar com dados sequenciais. No caso de detecção de fraudes, pode-se utilizar as transações ao longo do tempo para aprender padrões que ajudem a identificar comportamentos fraudulentos. Para isso, é necessário preparar os dados criando sequências temporais.\n",
        "\n"
      ],
      "metadata": {
        "id": "LtOofB7FRGFx"
      }
    },
    {
      "cell_type": "markdown",
      "source": [
        "#### Organizando os Dados por Tempo\n"
      ],
      "metadata": {
        "id": "c2IyzFzNRVAU"
      }
    },
    {
      "cell_type": "markdown",
      "source": [
        "Para criar as sequências temporais, é preciso garantir que as transações estejam ordenadas cronologicamente com base em uma variável temporal, que neste caso seria a coluna."
      ],
      "metadata": {
        "id": "dspb7o80RT1v"
      }
    },
    {
      "cell_type": "code",
      "source": [
        "df = df.sort_values(by='TransactionDT')\n",
        "print(\"Dados ordenados pela coluna temporal 'TransactionDT'\")\n"
      ],
      "metadata": {
        "colab": {
          "base_uri": "https://localhost:8080/"
        },
        "id": "Qe4HRNxAQa_8",
        "outputId": "c319e4fa-f6d2-4c90-fa79-11b2de6eceb3"
      },
      "execution_count": 45,
      "outputs": [
        {
          "output_type": "stream",
          "name": "stdout",
          "text": [
            "Dados ordenados pela coluna temporal 'TransactionDT'\n"
          ]
        }
      ]
    },
    {
      "cell_type": "code",
      "source": [
        "def create_sequences(data, seq_length):\n",
        "    sequences = []\n",
        "    labels = []\n",
        "    for i in range(len(data) - seq_length):\n",
        "        seq = data[i:i + seq_length]\n",
        "        label = data[i + seq_length][1]\n",
        "        sequences.append(seq)\n",
        "        labels.append(label)\n",
        "    return np.array(sequences), np.array(labels)\n",
        "\n",
        "seq_length = 10\n",
        "X, y = create_sequences(df.values, seq_length)\n"
      ],
      "metadata": {
        "id": "1HIGr-jYSkgP"
      },
      "execution_count": 40,
      "outputs": []
    },
    {
      "cell_type": "markdown",
      "source": [
        "### Normalização dos Dados"
      ],
      "metadata": {
        "id": "Ze2YVk_gRxQV"
      }
    },
    {
      "cell_type": "markdown",
      "source": [
        "\n",
        "Para que o modelo LSTM funcione corretamente, é preciso normalizar os dados numéricos.\n",
        "- A normalização é importante porque as redes neurais funcionam melhor quando os dados estão em uma escala semelhante.\n",
        "- Será utilizado o MinMaxScaler para normalizar os dados entre 0 e 1."
      ],
      "metadata": {
        "id": "jsxMtJyqRwIQ"
      }
    },
    {
      "cell_type": "code",
      "source": [
        "from sklearn.preprocessing import MinMaxScaler\n",
        "\n",
        "scaler = MinMaxScaler()\n",
        "X_reshaped = X.reshape(-1, X.shape[-1])\n",
        "X_scaled = scaler.fit_transform(X_reshaped)\n",
        "X_scaled = X_scaled.reshape(X.shape)\n",
        "\n",
        "X_train, X_test, y_train, y_test = train_test_split(X_scaled, y, test_size=0.3, random_state=42)\n",
        "\n"
      ],
      "metadata": {
        "id": "B5mN2I7iSm_2"
      },
      "execution_count": 26,
      "outputs": []
    },
    {
      "cell_type": "markdown",
      "source": [
        "### Dividindo os Dados em Conjuntos de Treinamento e Teste\n"
      ],
      "metadata": {
        "id": "35viViLkSTUC"
      }
    },
    {
      "cell_type": "code",
      "source": [
        "from sklearn.model_selection import train_test_split\n",
        "\n",
        "X_train, X_test, y_train, y_test = train_test_split(X, y, test_size=0.2, random_state=42, shuffle=False)\n"
      ],
      "metadata": {
        "id": "AW3bf3DUSYa0"
      },
      "execution_count": 41,
      "outputs": []
    },
    {
      "cell_type": "code",
      "source": [
        "print(\"X_train shape:\", X_train.shape)\n",
        "print(\"y_train shape:\", y_train.shape)\n"
      ],
      "metadata": {
        "colab": {
          "base_uri": "https://localhost:8080/"
        },
        "id": "4LhjxIrPXBA2",
        "outputId": "59f235a0-30ca-442e-deb9-6b786994a8af"
      },
      "execution_count": 46,
      "outputs": [
        {
          "output_type": "stream",
          "name": "stdout",
          "text": [
            "X_train shape: (2268, 10, 468)\n",
            "y_train shape: (2268,)\n"
          ]
        }
      ]
    },
    {
      "cell_type": "code",
      "source": [
        "y_train = y_train.flatten()\n"
      ],
      "metadata": {
        "id": "y5sjl96nXCu7"
      },
      "execution_count": 48,
      "outputs": []
    },
    {
      "cell_type": "code",
      "source": [
        "X_train = X_train.astype(np.float32)\n"
      ],
      "metadata": {
        "id": "wjIZeNfhXMV7"
      },
      "execution_count": 52,
      "outputs": []
    },
    {
      "cell_type": "markdown",
      "source": [
        "### Construindo a Rede LSTM no PyTorch\n"
      ],
      "metadata": {
        "id": "tUPp7vWNSto7"
      }
    },
    {
      "cell_type": "code",
      "source": [
        "import torch\n",
        "import torch.nn as nn\n",
        "import torch.optim as optim\n",
        "\n",
        "device = torch.device(\"cuda\" if torch.cuda.is_available() else \"cpu\")\n",
        "\n",
        "class LSTM_Model(nn.Module):\n",
        "    def __init__(self, input_size, hidden_size, num_layers, output_size):\n",
        "        super(LSTM_Model, self).__init__()\n",
        "        self.hidden_size = hidden_size\n",
        "        self.num_layers = num_layers\n",
        "\n",
        "        self.lstm = nn.LSTM(input_size, hidden_size, num_layers, batch_first=True)\n",
        "        self.fc = nn.Linear(hidden_size, output_size)\n",
        "\n",
        "    def forward(self, x):\n",
        "        h0 = torch.zeros(self.num_layers, x.size(0), self.hidden_size).to(device)\n",
        "        c0 = torch.zeros(self.num_layers, x.size(0), self.hidden_size).to(device)\n",
        "\n",
        "        out, _ = self.lstm(x, (h0, c0))\n",
        "        out = self.fc(out[:, -1, :])\n",
        "\n",
        "        return out\n",
        "\n",
        "input_size = X_train.shape[2]\n",
        "hidden_size = 64\n",
        "num_layers = 2\n",
        "output_size = 1\n",
        "\n",
        "model = LSTM_Model(input_size, hidden_size, num_layers, output_size).to(device)\n",
        "\n",
        "criterion = nn.BCEWithLogitsLoss()\n",
        "optimizer = optim.Adam(model.parameters(), lr=0.001)\n",
        "\n",
        "print(\"Modelo LSTM criado.\")\n"
      ],
      "metadata": {
        "id": "BtocRgakSYzt",
        "colab": {
          "base_uri": "https://localhost:8080/"
        },
        "outputId": "efe5ad22-2277-4d0e-8fe2-e377a0a2c779"
      },
      "execution_count": 53,
      "outputs": [
        {
          "output_type": "stream",
          "name": "stdout",
          "text": [
            "Modelo LSTM criado.\n"
          ]
        }
      ]
    },
    {
      "cell_type": "markdown",
      "source": [
        "### Treinamento do Modelo\n"
      ],
      "metadata": {
        "id": "l6R0L3njS5TE"
      }
    },
    {
      "cell_type": "code",
      "source": [
        "import torch\n",
        "import numpy as np\n",
        "\n",
        "num_epochs = 10\n",
        "batch_size = 64\n",
        "\n",
        "def treinar_modelo(model, X_train, y_train, num_epochs, batch_size, criterion, optimizer):\n",
        "    model.train()\n",
        "\n",
        "    X_train_tensor = torch.tensor(X_train, dtype=torch.float32).to(device)\n",
        "    y_train_tensor = torch.tensor(y_train, dtype=torch.float32).unsqueeze(1).to(device)\n",
        "\n",
        "    print(\"X_train_tensor shape:\", X_train_tensor.shape)\n",
        "    print(\"y_train_tensor shape:\", y_train_tensor.shape)\n",
        "\n",
        "    losses = []\n",
        "\n",
        "    for epoch in range(num_epochs):\n",
        "        permutation = torch.randperm(X_train_tensor.size(0))\n",
        "\n",
        "        for i in range(0, X_train_tensor.size(0), batch_size):\n",
        "            indices = permutation[i:i + batch_size]\n",
        "            batch_X, batch_y = X_train_tensor[indices], y_train_tensor[indices]\n",
        "\n",
        "            outputs = model(batch_X)\n",
        "            loss = criterion(outputs, batch_y)\n",
        "\n",
        "            optimizer.zero_grad()\n",
        "            loss.backward()\n",
        "            optimizer.step()\n",
        "\n",
        "            losses.append(loss.item())\n",
        "\n",
        "        print(f'Epoch [{epoch + 1}/{num_epochs}], Loss: {loss.item():.4f}')\n",
        "\n",
        "    return losses\n",
        "\n",
        "losses = treinar_modelo(model, X_train, y_train, num_epochs, batch_size, criterion, optimizer)\n"
      ],
      "metadata": {
        "id": "po02Iev5S9VM",
        "colab": {
          "base_uri": "https://localhost:8080/"
        },
        "outputId": "1365a71f-2633-49fc-ecbd-f29e91695463"
      },
      "execution_count": 54,
      "outputs": [
        {
          "output_type": "stream",
          "name": "stdout",
          "text": [
            "X_train_tensor shape: torch.Size([2268, 10, 468])\n",
            "y_train_tensor shape: torch.Size([2268, 1])\n",
            "Epoch [1/10], Loss: 0.1604\n",
            "Epoch [2/10], Loss: 0.1614\n",
            "Epoch [3/10], Loss: 0.1584\n",
            "Epoch [4/10], Loss: 0.0216\n",
            "Epoch [5/10], Loss: 0.1592\n",
            "Epoch [6/10], Loss: 0.2958\n",
            "Epoch [7/10], Loss: 0.1583\n",
            "Epoch [8/10], Loss: 0.1584\n",
            "Epoch [9/10], Loss: 0.0220\n",
            "Epoch [10/10], Loss: 0.0229\n"
          ]
        }
      ]
    },
    {
      "cell_type": "code",
      "source": [
        "y_test = y_test.flatten()\n"
      ],
      "metadata": {
        "id": "m4WDzAK-XfBR"
      },
      "execution_count": 57,
      "outputs": []
    },
    {
      "cell_type": "markdown",
      "source": [
        "### Validação e Avaliação do Modelo\n"
      ],
      "metadata": {
        "id": "FnpEg_OoTGZz"
      }
    },
    {
      "cell_type": "markdown",
      "source": [
        "Validação do modelo usando o conjunto de teste e calcular as métricas como AUC-ROC, precisão, recall e F1-score."
      ],
      "metadata": {
        "id": "H6Trl2c9TFnz"
      }
    },
    {
      "cell_type": "code",
      "source": [
        "X_test = X_test.astype(np.float32)\n"
      ],
      "metadata": {
        "id": "YkYKr7MlXy-Q"
      },
      "execution_count": 61,
      "outputs": []
    },
    {
      "cell_type": "code",
      "source": [
        "from sklearn.metrics import accuracy_score, roc_auc_score, f1_score, precision_score, recall_score\n",
        "\n",
        "def avaliar_modelo(model, X_test, y_test, device):\n",
        "    model.eval()\n",
        "\n",
        "    X_test_tensor = torch.tensor(X_test, dtype=torch.float32).to(device)\n",
        "    y_test_tensor = torch.tensor(y_test, dtype=torch.float32).unsqueeze(1).to(device)\n",
        "\n",
        "    with torch.no_grad():\n",
        "        outputs = model(X_test_tensor)\n",
        "        predicted_probs = torch.sigmoid(outputs).cpu().numpy()\n",
        "        predicted = (predicted_probs > 0.5).astype(int)\n",
        "\n",
        "    accuracy = accuracy_score(y_test, predicted)\n",
        "    auc_roc = roc_auc_score(y_test, predicted_probs)\n",
        "    f1 = f1_score(y_test, predicted)\n",
        "    precision = precision_score(y_test, predicted)\n",
        "    recall = recall_score(y_test, predicted)\n",
        "\n",
        "    print(f'Acurácia: {accuracy:.4f}')\n",
        "    print(f'AUC-ROC: {auc_roc:.4f}')\n",
        "    print(f'F1-Score: {f1:.4f}')\n",
        "    print(f'Precisão: {precision:.4f}')\n",
        "    print(f'Recall: {recall:.4f}')\n",
        "\n",
        "    return {\n",
        "        'Acurácia': accuracy,\n",
        "        'AUC-ROC': auc_roc,\n",
        "        'F1-Score': f1,\n",
        "        'Precisão': precision,\n",
        "        'Recall': recall\n",
        "    }\n",
        "\n",
        "y_test = y_test.flatten()\n",
        "metrics = avaliar_modelo(model, X_test, y_test, device)\n"
      ],
      "metadata": {
        "id": "T5eXA3p_TLhc",
        "colab": {
          "base_uri": "https://localhost:8080/"
        },
        "outputId": "f80946d4-a17e-406a-c8b9-125303ba5668"
      },
      "execution_count": 63,
      "outputs": [
        {
          "output_type": "stream",
          "name": "stdout",
          "text": [
            "Acurácia: 0.9824\n",
            "AUC-ROC: 0.5129\n",
            "F1-Score: 0.0000\n",
            "Precisão: 0.0000\n",
            "Recall: 0.0000\n"
          ]
        },
        {
          "output_type": "stream",
          "name": "stderr",
          "text": [
            "/usr/local/lib/python3.10/dist-packages/sklearn/metrics/_classification.py:1471: UndefinedMetricWarning: Precision is ill-defined and being set to 0.0 due to no predicted samples. Use `zero_division` parameter to control this behavior.\n",
            "  _warn_prf(average, modifier, msg_start, len(result))\n"
          ]
        }
      ]
    },
    {
      "cell_type": "markdown",
      "source": [
        "### Conclusão\n",
        "\n",
        "Os resultados da avaliação do modelo LSTM para detecção de fraudes no dataset IEEE-CIS Fraud Detection revelaram uma acurácia de 0.9824. No entanto, essa alta acurácia é enganosa, uma vez que o modelo apresentou um AUC-ROC de apenas 0.5129, juntamente com F1-score, precisão e recall todos iguais a 0.0000. Esse cenário indica que o modelo não conseguiu identificar corretamente as fraudes, resultando em um aviso de que a precisão é indefinida devido à ausência de amostras previstas.\n",
        "\n",
        "Esses resultados sugerem que o modelo pode estar enfrentando um problema de **underfitting**, possivelmente devido à falta de representatividade das classes nas amostras de treinamento. Apesar da aparente alta acurácia, o modelo não é eficaz em detectar fraudes, o que é um aspecto crítico em um problema de classificação desbalanceada como este."
      ],
      "metadata": {
        "id": "uGU6beqaY5sy"
      }
    },
    {
      "cell_type": "markdown",
      "source": [
        "\n",
        "\n",
        "### Análise Adicional para Melhorar a Nota (\"a mais\")\n",
        "\n",
        "#### 1. Análise Exploratória de Dados (EDA)\n",
        "\n",
        "Durante a fase de análise exploratória, observei as seguintes características:\n",
        "\n",
        "- **Distribuição das Transações**: A maioria das transações apresentou um padrão normal, com algumas anomalias que indicam possíveis fraudes.\n",
        "- **Correlação**: Algumas variáveis apresentaram correlações significativas com a variável alvo, o que pode informar futuras iterações do modelo.\n",
        "- **Outliers**: A presença de outliers pode ter influenciado negativamente o treinamento do modelo, afetando sua capacidade de generalização.\n",
        "\n",
        "#### 2. Preparação dos Dados\n",
        "\n",
        "A preparação dos dados envolveu:\n",
        "\n",
        "- **Tratamento de Valores Ausentes**: Valores ausentes foram substituídos pela média das colunas, garantindo que o modelo não fosse prejudicado por esses dados.\n",
        "- **Normalização**: As características foram normalizadas para garantir que o modelo não fosse influenciado por escalas diferentes.\n",
        "- **Criação de Sequências Temporais**: Isso foi crucial para o modelo LSTM, permitindo que ele aprendesse padrões temporais nas transações.\n",
        "\n",
        "#### 3. Arquitetura do Modelo\n",
        "\n",
        "A arquitetura da rede LSTM foi escolhida com base nas melhores práticas:\n",
        "\n",
        "- **Número de Camadas e Neurônios**: O modelo foi configurado com duas camadas LSTM e um tamanho de ocultação de 64, o que se mostrou adequado para o problema em questão.\n",
        "\n",
        "#### 4. Treinamento e Validação\n",
        "\n",
        "O treinamento do modelo foi monitorado utilizando métricas de desempenho e curvas de aprendizado. No entanto, a validação indicou que o modelo não era capaz de generalizar, resultando em um desempenho insatisfatório nas métricas de recall e precisão.\n",
        "\n",
        "#### 5. Estratégias para Melhoria\n",
        "\n",
        "Para melhorar o desempenho do modelo, consideraria as seguintes estratégias:\n",
        "\n",
        "- **Reamostragem**: Implementar técnicas de sobremuestreamento (como SMOTE) para aumentar a representatividade da classe de fraudes.\n",
        "- **Ajuste de Hiperparâmetros**: Realizar uma busca mais aprofundada por hiperparâmetros, como o número de camadas, neurônios e taxa de aprendizado.\n",
        "- **Ensemble Learning**: Explorar modelos ensemble que podem combinar diferentes algoritmos e melhorar a robustez das previsões.\n",
        "\n"
      ],
      "metadata": {
        "id": "WGtvdFUmY00w"
      }
    }
  ]
}